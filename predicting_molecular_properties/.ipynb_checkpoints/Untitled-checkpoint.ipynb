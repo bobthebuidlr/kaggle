{
 "cells": [
  {
   "cell_type": "code",
   "execution_count": 1,
   "metadata": {},
   "outputs": [],
   "source": [
    "import numpy as np\n",
    "import pandas as pd\n",
    "from datetime import datetime"
   ]
  },
  {
   "cell_type": "code",
   "execution_count": 2,
   "metadata": {},
   "outputs": [
    {
     "name": "stdout",
     "output_type": "stream",
     "text": [
      "Data loaded in 0:00:10.713585\n"
     ]
    }
   ],
   "source": [
    "DIR = '/Users/bobvanderhelm/datasets/champs-scalar-coupling/'\n",
    "\n",
    "t0 = datetime.now()\n",
    "\n",
    "dipole_moments = pd.read_csv(DIR + 'dipole_moments.csv')\n",
    "mulliken_charges = pd.read_csv(DIR + 'mulliken_charges.csv')\n",
    "potential_energy = pd.read_csv(DIR + 'potential_energy.csv')\n",
    "scalar_coupling_contributions = pd.read_csv(DIR + 'scalar_coupling_contributions.csv')\n",
    "structures = pd.read_csv(DIR + 'structures.csv')\n",
    "test = pd.read_csv(DIR + 'test.csv')\n",
    "train = pd.read_csv(DIR + 'train.csv')\n",
    "\n",
    "print('Data loaded in', (datetime.now() - t0))"
   ]
  },
  {
   "cell_type": "code",
   "execution_count": 5,
   "metadata": {},
   "outputs": [
    {
     "data": {
      "text/plain": [
       "(      molecule_name       X    Y       Z\n",
       " 0  dsgdb9nsd_000001  0.0000  0.0  0.0000\n",
       " 1  dsgdb9nsd_000002 -0.0002  0.0  1.6256\n",
       " 2  dsgdb9nsd_000003  0.0000  0.0 -1.8511\n",
       " 3  dsgdb9nsd_000005  0.0000  0.0 -2.8937\n",
       " 4  dsgdb9nsd_000007  0.0000  0.0  0.0000,\n",
       "                   X             Y             Z\n",
       " count  85003.000000  85003.000000  85003.000000\n",
       " mean      -0.019937      0.093764      0.252982\n",
       " std        2.283738      1.739395      1.027573\n",
       " min      -22.958000     -9.252300     -6.028500\n",
       " 25%       -1.363250     -0.941950     -0.247750\n",
       " 50%       -0.000100      0.081400      0.117600\n",
       " 75%        1.311000      1.166750      0.902050\n",
       " max       21.873800     13.005600      6.880100)"
      ]
     },
     "execution_count": 5,
     "metadata": {},
     "output_type": "execute_result"
    }
   ],
   "source": [
    "dipole_moments.head(), dipole_moments.describe()"
   ]
  },
  {
   "cell_type": "code",
   "execution_count": 6,
   "metadata": {},
   "outputs": [
    {
     "data": {
      "text/plain": [
       "(      molecule_name  atom_index  mulliken_charge\n",
       " 0  dsgdb9nsd_000001           0        -0.535689\n",
       " 1  dsgdb9nsd_000001           1         0.133921\n",
       " 2  dsgdb9nsd_000001           2         0.133922\n",
       " 3  dsgdb9nsd_000001           3         0.133923\n",
       " 4  dsgdb9nsd_000001           4         0.133923,\n",
       "          atom_index  mulliken_charge\n",
       " count  1.533537e+06     1.533537e+06\n",
       " mean   8.759199e+00    -2.256222e-10\n",
       " std    5.592808e+00     2.254392e-01\n",
       " min    0.000000e+00    -7.334500e-01\n",
       " 25%    4.000000e+00    -1.915330e-01\n",
       " 50%    9.000000e+00     9.867800e-02\n",
       " 75%    1.300000e+01     1.273960e-01\n",
       " max    2.800000e+01     7.289810e-01)"
      ]
     },
     "execution_count": 6,
     "metadata": {},
     "output_type": "execute_result"
    }
   ],
   "source": [
    "mulliken_charges.head(), mulliken_charges.describe()"
   ]
  },
  {
   "cell_type": "code",
   "execution_count": 7,
   "metadata": {},
   "outputs": [
    {
     "data": {
      "text/plain": [
       "(      molecule_name  atom_index atom         x         y         z\n",
       " 0  dsgdb9nsd_000001           0    C -0.012698  1.085804  0.008001\n",
       " 1  dsgdb9nsd_000001           1    H  0.002150 -0.006031  0.001976\n",
       " 2  dsgdb9nsd_000001           2    H  1.011731  1.463751  0.000277\n",
       " 3  dsgdb9nsd_000001           3    H -0.540815  1.447527 -0.876644\n",
       " 4  dsgdb9nsd_000001           4    H -0.523814  1.437933  0.906397,\n",
       "          atom_index             x             y             z\n",
       " count  2.358657e+06  2.358657e+06  2.358657e+06  2.358657e+06\n",
       " mean   8.757349e+00  9.489178e-02 -3.337381e-01  6.241504e-02\n",
       " std    5.592487e+00  1.655271e+00  1.989152e+00  1.445870e+00\n",
       " min    0.000000e+00 -9.234889e+00 -9.933938e+00 -9.134765e+00\n",
       " 25%    4.000000e+00 -8.746097e-01 -1.826156e+00 -8.424896e-01\n",
       " 50%    9.000000e+00  5.183615e-02 -4.035932e-01  1.093207e-02\n",
       " 75%    1.300000e+01  1.116101e+00  1.373660e+00  9.394357e-01\n",
       " max    2.800000e+01  9.382240e+00  1.018196e+01  7.894733e+00)"
      ]
     },
     "execution_count": 7,
     "metadata": {},
     "output_type": "execute_result"
    }
   ],
   "source": [
    "structures.head(), structures.describe()"
   ]
  },
  {
   "cell_type": "code",
   "execution_count": 10,
   "metadata": {},
   "outputs": [
    {
     "data": {
      "text/html": [
       "<div>\n",
       "<style scoped>\n",
       "    .dataframe tbody tr th:only-of-type {\n",
       "        vertical-align: middle;\n",
       "    }\n",
       "\n",
       "    .dataframe tbody tr th {\n",
       "        vertical-align: top;\n",
       "    }\n",
       "\n",
       "    .dataframe thead th {\n",
       "        text-align: right;\n",
       "    }\n",
       "</style>\n",
       "<table border=\"1\" class=\"dataframe\">\n",
       "  <thead>\n",
       "    <tr style=\"text-align: right;\">\n",
       "      <th></th>\n",
       "      <th>molecule_name</th>\n",
       "      <th>atom_index</th>\n",
       "      <th>atom</th>\n",
       "      <th>x</th>\n",
       "      <th>y</th>\n",
       "      <th>z</th>\n",
       "    </tr>\n",
       "  </thead>\n",
       "  <tbody>\n",
       "    <tr>\n",
       "      <th>19</th>\n",
       "      <td>dsgdb9nsd_000007</td>\n",
       "      <td>0</td>\n",
       "      <td>C</td>\n",
       "      <td>-0.018704</td>\n",
       "      <td>1.525582</td>\n",
       "      <td>0.010433</td>\n",
       "    </tr>\n",
       "    <tr>\n",
       "      <th>20</th>\n",
       "      <td>dsgdb9nsd_000007</td>\n",
       "      <td>1</td>\n",
       "      <td>C</td>\n",
       "      <td>0.002104</td>\n",
       "      <td>-0.003882</td>\n",
       "      <td>0.001999</td>\n",
       "    </tr>\n",
       "    <tr>\n",
       "      <th>21</th>\n",
       "      <td>dsgdb9nsd_000007</td>\n",
       "      <td>2</td>\n",
       "      <td>H</td>\n",
       "      <td>0.994873</td>\n",
       "      <td>1.939743</td>\n",
       "      <td>0.002941</td>\n",
       "    </tr>\n",
       "    <tr>\n",
       "      <th>22</th>\n",
       "      <td>dsgdb9nsd_000007</td>\n",
       "      <td>3</td>\n",
       "      <td>H</td>\n",
       "      <td>-0.542076</td>\n",
       "      <td>1.923611</td>\n",
       "      <td>-0.865117</td>\n",
       "    </tr>\n",
       "    <tr>\n",
       "      <th>23</th>\n",
       "      <td>dsgdb9nsd_000007</td>\n",
       "      <td>4</td>\n",
       "      <td>H</td>\n",
       "      <td>-0.525241</td>\n",
       "      <td>1.914173</td>\n",
       "      <td>0.900024</td>\n",
       "    </tr>\n",
       "    <tr>\n",
       "      <th>24</th>\n",
       "      <td>dsgdb9nsd_000007</td>\n",
       "      <td>5</td>\n",
       "      <td>H</td>\n",
       "      <td>0.525487</td>\n",
       "      <td>-0.401908</td>\n",
       "      <td>0.877544</td>\n",
       "    </tr>\n",
       "    <tr>\n",
       "      <th>25</th>\n",
       "      <td>dsgdb9nsd_000007</td>\n",
       "      <td>6</td>\n",
       "      <td>H</td>\n",
       "      <td>-1.011477</td>\n",
       "      <td>-0.418034</td>\n",
       "      <td>0.009508</td>\n",
       "    </tr>\n",
       "    <tr>\n",
       "      <th>26</th>\n",
       "      <td>dsgdb9nsd_000007</td>\n",
       "      <td>7</td>\n",
       "      <td>H</td>\n",
       "      <td>0.508626</td>\n",
       "      <td>-0.392470</td>\n",
       "      <td>-0.887601</td>\n",
       "    </tr>\n",
       "  </tbody>\n",
       "</table>\n",
       "</div>"
      ],
      "text/plain": [
       "       molecule_name  atom_index atom         x         y         z\n",
       "19  dsgdb9nsd_000007           0    C -0.018704  1.525582  0.010433\n",
       "20  dsgdb9nsd_000007           1    C  0.002104 -0.003882  0.001999\n",
       "21  dsgdb9nsd_000007           2    H  0.994873  1.939743  0.002941\n",
       "22  dsgdb9nsd_000007           3    H -0.542076  1.923611 -0.865117\n",
       "23  dsgdb9nsd_000007           4    H -0.525241  1.914173  0.900024\n",
       "24  dsgdb9nsd_000007           5    H  0.525487 -0.401908  0.877544\n",
       "25  dsgdb9nsd_000007           6    H -1.011477 -0.418034  0.009508\n",
       "26  dsgdb9nsd_000007           7    H  0.508626 -0.392470 -0.887601"
      ]
     },
     "execution_count": 10,
     "metadata": {},
     "output_type": "execute_result"
    }
   ],
   "source": [
    "potential_energy.head(), potential_energy.describe()"
   ]
  },
  {
   "cell_type": "code",
   "execution_count": null,
   "metadata": {},
   "outputs": [],
   "source": []
  }
 ],
 "metadata": {
  "kernelspec": {
   "display_name": "Python 3",
   "language": "python",
   "name": "python3"
  },
  "language_info": {
   "codemirror_mode": {
    "name": "ipython",
    "version": 3
   },
   "file_extension": ".py",
   "mimetype": "text/x-python",
   "name": "python",
   "nbconvert_exporter": "python",
   "pygments_lexer": "ipython3",
   "version": "3.7.1"
  }
 },
 "nbformat": 4,
 "nbformat_minor": 2
}
