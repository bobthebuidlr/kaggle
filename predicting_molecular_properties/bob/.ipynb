{
 "cells": [
  {
   "cell_type": "markdown",
   "metadata": {},
   "source": [
    "# TODO"
   ]
  },
  {
   "cell_type": "code",
   "execution_count": 1,
   "metadata": {},
   "outputs": [],
   "source": [
    "import numpy as np\n",
    "import pandas as pd\n",
    "from datetime import datetime\n",
    "from tqdm import tqdm"
   ]
  },
  {
   "cell_type": "code",
   "execution_count": 48,
   "metadata": {},
   "outputs": [
    {
     "name": "stdout",
     "output_type": "stream",
     "text": [
      "Data loaded in 0:00:09.285975\n"
     ]
    }
   ],
   "source": [
    "DIR = '/Users/bobvanderhelm/datasets/champs-scalar-coupling/'\n",
    "\n",
    "t0 = datetime.now()\n",
    "\n",
    "dipole_moments = pd.read_csv(DIR + 'dipole_moments.csv')\n",
    "mulliken_charges = pd.read_csv(DIR + 'mulliken_charges.csv')\n",
    "potential_energy = pd.read_csv(DIR + 'potential_energy.csv')\n",
    "scalar_coupling_contributions = pd.read_csv(DIR + 'scalar_coupling_contributions.csv')\n",
    "structures = pd.read_csv(DIR + 'structures.csv')\n",
    "test = pd.read_csv(DIR + 'test.csv')\n",
    "train = pd.read_csv(DIR + 'train.csv')\n",
    "\n",
    "print('Data loaded in', (datetime.now() - t0))"
   ]
  },
  {
   "cell_type": "code",
   "execution_count": 51,
   "metadata": {},
   "outputs": [
    {
     "data": {
      "text/plain": [
       "(('C', 'H', 'N', 'O', 'F'),\n",
       " array(['dsgdb9nsd_000001', 'dsgdb9nsd_000002', 'dsgdb9nsd_000003', ...,\n",
       "        'dsgdb9nsd_133883', 'dsgdb9nsd_133884', 'dsgdb9nsd_133885'],\n",
       "       dtype=object),\n",
       " '133885')"
      ]
     },
     "execution_count": 51,
     "metadata": {},
     "output_type": "execute_result"
    }
   ],
   "source": [
    "unique_atoms = ('C', 'H', 'N', 'O', 'F')\n",
    "unique_molecules = structures['molecule_name'].unique()\n",
    "max_atoms_per_molecule = 29\n",
    "unique_molecules_n = []\n",
    "for i in structures['molecule_name'].unique():\n",
    "    unique_molecules_n.append(i.split('_')[1])\n",
    "unique_atoms, unique_molecules, unique_molecules_n[-1]"
   ]
  },
  {
   "cell_type": "code",
   "execution_count": 95,
   "metadata": {},
   "outputs": [
    {
     "data": {
      "text/plain": [
       "(130775, 146)"
      ]
     },
     "execution_count": 95,
     "metadata": {},
     "output_type": "execute_result"
    }
   ],
   "source": [
    "molecule_lib = np.zeros((130775, 146))\n",
    "molecule_lib.shape"
   ]
  },
  {
   "cell_type": "code",
   "execution_count": 133,
   "metadata": {},
   "outputs": [
    {
     "name": "stdout",
     "output_type": "stream",
     "text": [
      "133884 C\n",
      "133885 C\n"
     ]
    }
   ],
   "source": [
    "j = 0\n",
    "k = 0\n",
    "s = structures.values\n",
    "molecule_vec = np.zeros(146)\n",
    "i = 0\n",
    "for row in s:\n",
    "    molecule = row[0].split('_')[1]\n",
    "    atom = row[2]\n",
    "    if molecule == unique_molecules_n[j]:\n",
    "        molecule_vec[0] = molecule\n",
    "        atom_vec = np.zeros(5)\n",
    "        atom_vec[unique_atoms.index(atom)] = 1\n",
    "        molecule_vec[k*5+1:k*5+6] = atom_vec\n",
    "        k += 1\n",
    "    else:\n",
    "        if int(molecule) > 133883:\n",
    "            print(molecule, atom)\n",
    "        molecule_lib[j,0:146] = molecule_vec\n",
    "        k = 0\n",
    "        j += 1\n",
    "        molecule_vec = np.zeros(146)\n",
    "        molecule_vec[0] = molecule\n",
    "        atom_vec = np.zeros(5)\n",
    "        atom_vec[unique_atoms.index(atom)] = 1\n",
    "        molecule_vec[k*5+1:k*5+6] = atom_vec    \n",
    "        k += 1\n",
    "\n",
    "molecule_lib[j,0:146] = molecule_vec    "
   ]
  },
  {
   "cell_type": "code",
   "execution_count": 136,
   "metadata": {},
   "outputs": [
    {
     "data": {
      "text/plain": [
       "133885"
      ]
     },
     "execution_count": 136,
     "metadata": {},
     "output_type": "execute_result"
    }
   ],
   "source": [
    "int(molecule_lib[-1][0])"
   ]
  },
  {
   "cell_type": "code",
   "execution_count": 145,
   "metadata": {
    "scrolled": true
   },
   "outputs": [
    {
     "data": {
      "text/plain": [
       "(4658147, 158)"
      ]
     },
     "execution_count": 145,
     "metadata": {},
     "output_type": "execute_result"
    }
   ],
   "source": [
    "unique_distances = ('1', '2', '3')\n",
    "Xtrain = np.zeros((len(train), 158))\n",
    "Xtrain.shape"
   ]
  },
  {
   "cell_type": "code",
   "execution_count": 156,
   "metadata": {},
   "outputs": [],
   "source": [
    "train_vec = np.zeros(158)\n",
    "t = train.values\n",
    "j = 0\n",
    "for row in t:\n",
    "    molecule = int(row[1].split('_')[1])\n",
    "    distance = list(row[4])[0]\n",
    "    atom1 = list(row[4])[2]\n",
    "    atom2 = list(row[4])[3]\n",
    "    \n",
    "    atom1_vec = np.zeros(5)\n",
    "    atom2_vec = np.zeros(5)\n",
    "    distance_vec = np.zeros(3)\n",
    "    \n",
    "    if int(molecule_lib[j][0]) == molecule:\n",
    "        molecule_v = molecule_lib[j][1:]\n",
    "    else:\n",
    "        j += 1\n",
    "        molecule_v = molecule_lib[j][1:]\n",
    "    atom1_vec[unique_atoms.index(atom1)] = 1\n",
    "    atom2_vec[unique_atoms.index(atom2)] = 1\n",
    "    distance_vec[unique_distances.index(distance)] = 1\n",
    "    \n",
    "    train_vec[0:145] = molecule_v\n",
    "    train_vec[145:150] = atom1_vec\n",
    "    train_vec[150:155] = atom2_vec\n",
    "    train_vec[155:158] = distance_vec\n",
    "    Xtrain[i] = train_vec\n",
    "    i += 1"
   ]
  },
  {
   "cell_type": "code",
   "execution_count": 162,
   "metadata": {},
   "outputs": [
    {
     "data": {
      "text/plain": [
       "array([1., 0., 0., 0., 0., 1., 0., 0., 0., 0., 1., 0., 0., 0., 0., 1., 0.,\n",
       "       0., 0., 0., 1., 0., 0., 0., 0., 1., 0., 0., 0., 0., 1., 0., 0., 0.,\n",
       "       0., 0., 0., 1., 0., 0., 1., 0., 0., 0., 0., 0., 1., 0., 0., 0., 0.,\n",
       "       1., 0., 0., 0., 0., 1., 0., 0., 0., 0., 1., 0., 0., 0., 0., 1., 0.,\n",
       "       0., 0., 0., 1., 0., 0., 0., 0., 1., 0., 0., 0., 0., 1., 0., 0., 0.,\n",
       "       0., 1., 0., 0., 0., 0., 0., 0., 0., 0., 0., 0., 0., 0., 0., 0., 0.,\n",
       "       0., 0., 0., 0., 0., 0., 0., 0., 0., 0., 0., 0., 0., 0., 0., 0., 0.,\n",
       "       0., 0., 0., 0., 0., 0., 0., 0., 0., 0., 0., 0., 0., 0., 0., 0., 0.,\n",
       "       0., 0., 0., 0., 0., 0., 0., 0., 0., 0., 1., 0., 0., 0., 1., 0., 0.,\n",
       "       0., 0., 0., 0., 1.])"
      ]
     },
     "execution_count": 162,
     "metadata": {},
     "output_type": "execute_result"
    }
   ],
   "source": [
    "Xtrain[-333]"
   ]
  },
  {
   "cell_type": "code",
   "execution_count": null,
   "metadata": {},
   "outputs": [],
   "source": [
    "3JHC\n",
    "18 atoms"
   ]
  },
  {
   "cell_type": "code",
   "execution_count": 167,
   "metadata": {},
   "outputs": [
    {
     "data": {
      "text/plain": [
       "array([4657814, 'dsgdb9nsd_133879', 9, 2, '3JHC', 3.45296], dtype=object)"
      ]
     },
     "execution_count": 167,
     "metadata": {},
     "output_type": "execute_result"
    }
   ],
   "source": [
    "t[-333]"
   ]
  },
  {
   "cell_type": "code",
   "execution_count": 168,
   "metadata": {},
   "outputs": [
    {
     "data": {
      "text/plain": [
       "(18, 6)"
      ]
     },
     "execution_count": 168,
     "metadata": {},
     "output_type": "execute_result"
    }
   ],
   "source": [
    "structures[structures['molecule_name']=='dsgdb9nsd_133879'].shape"
   ]
  },
  {
   "cell_type": "code",
   "execution_count": 166,
   "metadata": {},
   "outputs": [
    {
     "data": {
      "text/plain": [
       "18"
      ]
     },
     "execution_count": 166,
     "metadata": {},
     "output_type": "execute_result"
    }
   ],
   "source": [
    "p = 0\n",
    "for y in Xtrain[-333]:\n",
    "    if y == 1:\n",
    "        p += 1\n",
    "p - 3"
   ]
  },
  {
   "cell_type": "code",
   "execution_count": 169,
   "metadata": {},
   "outputs": [
    {
     "data": {
      "text/plain": [
       "(4658147, 158)"
      ]
     },
     "execution_count": 169,
     "metadata": {},
     "output_type": "execute_result"
    }
   ],
   "source": [
    "Xtrain.shape"
   ]
  },
  {
   "cell_type": "code",
   "execution_count": 170,
   "metadata": {},
   "outputs": [
    {
     "data": {
      "text/plain": [
       "735987226"
      ]
     },
     "execution_count": 170,
     "metadata": {},
     "output_type": "execute_result"
    }
   ],
   "source": [
    "Xtrain.shape[0] * Xtrain.shape[1]"
   ]
  },
  {
   "cell_type": "code",
   "execution_count": 171,
   "metadata": {},
   "outputs": [
    {
     "data": {
      "text/plain": [
       "409600000"
      ]
     },
     "execution_count": 171,
     "metadata": {},
     "output_type": "execute_result"
    }
   ],
   "source": [
    "400000 * 32 * 32\n"
   ]
  },
  {
   "cell_type": "code",
   "execution_count": null,
   "metadata": {},
   "outputs": [],
   "source": []
  }
 ],
 "metadata": {
  "kernelspec": {
   "display_name": "Python 3",
   "language": "python",
   "name": "python3"
  },
  "language_info": {
   "codemirror_mode": {
    "name": "ipython",
    "version": 3
   },
   "file_extension": ".py",
   "mimetype": "text/x-python",
   "name": "python",
   "nbconvert_exporter": "python",
   "pygments_lexer": "ipython3",
   "version": "3.7.1"
  }
 },
 "nbformat": 4,
 "nbformat_minor": 2
}
