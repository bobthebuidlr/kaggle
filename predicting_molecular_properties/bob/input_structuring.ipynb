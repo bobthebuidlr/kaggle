{
 "cells": [
  {
   "cell_type": "markdown",
   "metadata": {},
   "source": [
    "# TODO\n",
    "- First draft NN (bob)\n",
    "- XYZ plotting (dragos)\n",
    "- Combining dataframes (Michal)\n",
    "\n",
    "### Open questions?\n",
    "- How is potential_energy calculated?\n",
    "- What is FC, SD, PSO, DSO forces?\n",
    "- Are mulliken charges the same for every same atom?"
   ]
  },
  {
   "cell_type": "code",
   "execution_count": 32,
   "metadata": {},
   "outputs": [],
   "source": [
    "import numpy as np\n",
    "import pandas as pd\n",
    "from datetime import datetime\n",
    "from tqdm import tqdm"
   ]
  },
  {
   "cell_type": "code",
   "execution_count": 103,
   "metadata": {},
   "outputs": [
    {
     "name": "stdout",
     "output_type": "stream",
     "text": [
      "Data loaded in 0:00:09.904442\n"
     ]
    }
   ],
   "source": [
    "DIR = '/Users/bobvanderhelm/datasets/champs-scalar-coupling/'\n",
    "\n",
    "t0 = datetime.now()\n",
    "\n",
    "dipole_moments = pd.read_csv(DIR + 'dipole_moments.csv')\n",
    "mulliken_charges = pd.read_csv(DIR + 'mulliken_charges.csv')\n",
    "potential_energy = pd.read_csv(DIR + 'potential_energy.csv')\n",
    "scalar_coupling_contributions = pd.read_csv(DIR + 'scalar_coupling_contributions.csv')\n",
    "structures = pd.read_csv(DIR + 'structures.csv')\n",
    "test = pd.read_csv(DIR + 'test.csv')\n",
    "train = pd.read_csv(DIR + 'train.csv')\n",
    "\n",
    "print('Data loaded in', (datetime.now() - t0))"
   ]
  },
  {
   "cell_type": "code",
   "execution_count": 7,
   "metadata": {},
   "outputs": [
    {
     "data": {
      "text/plain": [
       "130775"
      ]
     },
     "execution_count": 7,
     "metadata": {},
     "output_type": "execute_result"
    }
   ],
   "source": [
    "len(structures['molecule_name'].unique())"
   ]
  },
  {
   "cell_type": "code",
   "execution_count": 12,
   "metadata": {},
   "outputs": [
    {
     "data": {
      "text/plain": [
       "45772"
      ]
     },
     "execution_count": 12,
     "metadata": {},
     "output_type": "execute_result"
    }
   ],
   "source": [
    "len(test['molecule_name'].unique())"
   ]
  },
  {
   "cell_type": "code",
   "execution_count": 104,
   "metadata": {},
   "outputs": [],
   "source": [
    "unique_atoms = ('C', 'H', 'N', 'O', 'F')\n",
    "max_atoms_per_molecule = 29\n",
    "\n",
    "# List all unique molecule names\n",
    "molecules = structures['molecule_name'].unique()\n",
    "\n",
    "mol_numbers = []\n",
    "for i in structures['molecule_name'].unique():\n",
    "    mol_numbers.append(i.split('_')[1])"
   ]
  },
  {
   "cell_type": "code",
   "execution_count": 64,
   "metadata": {},
   "outputs": [
    {
     "data": {
      "text/plain": [
       "(130775, 159)"
      ]
     },
     "execution_count": 64,
     "metadata": {},
     "output_type": "execute_result"
    }
   ],
   "source": [
    "Xtrain = np.zeros((130775, 159))\n",
    "Xtrain.shape"
   ]
  },
  {
   "cell_type": "code",
   "execution_count": 65,
   "metadata": {},
   "outputs": [
    {
     "data": {
      "text/plain": [
       "(130775, 146)"
      ]
     },
     "execution_count": 65,
     "metadata": {},
     "output_type": "execute_result"
    }
   ],
   "source": [
    "molecule_vecs = np.zeros((len(molecules), (len(unique_atoms) * max_atoms_per_molecule) + 1))\n",
    "molecule_vecs.shape"
   ]
  },
  {
   "cell_type": "code",
   "execution_count": 106,
   "metadata": {},
   "outputs": [],
   "source": [
    "s = structures.values"
   ]
  },
  {
   "cell_type": "code",
   "execution_count": 143,
   "metadata": {},
   "outputs": [
    {
     "name": "stdout",
     "output_type": "stream",
     "text": [
      "dsgdb9nsd_000001 dsgdb9nsd_133883\n",
      "dsgdb9nsd_000002 dsgdb9nsd_133883\n",
      "dsgdb9nsd_000003 dsgdb9nsd_133883\n",
      "dsgdb9nsd_000004 dsgdb9nsd_133883\n",
      "dsgdb9nsd_000005 dsgdb9nsd_133883\n",
      "dsgdb9nsd_000007 dsgdb9nsd_133883\n",
      "dsgdb9nsd_000008 dsgdb9nsd_133883\n",
      "dsgdb9nsd_000009 dsgdb9nsd_133883\n",
      "dsgdb9nsd_000010 dsgdb9nsd_133883\n",
      "dsgdb9nsd_000011 dsgdb9nsd_133883\n",
      "dsgdb9nsd_000012 dsgdb9nsd_133883\n",
      "dsgdb9nsd_000013 dsgdb9nsd_133883\n",
      "dsgdb9nsd_000014 dsgdb9nsd_133883\n",
      "dsgdb9nsd_000015 dsgdb9nsd_133883\n",
      "dsgdb9nsd_000016 dsgdb9nsd_133883\n",
      "dsgdb9nsd_000017 dsgdb9nsd_133883\n",
      "dsgdb9nsd_000018 dsgdb9nsd_133884\n",
      "dsgdb9nsd_000019 dsgdb9nsd_133884\n",
      "dsgdb9nsd_000020 dsgdb9nsd_133884\n",
      "dsgdb9nsd_000021 dsgdb9nsd_133884\n",
      "dsgdb9nsd_000022 dsgdb9nsd_133884\n",
      "dsgdb9nsd_000023 dsgdb9nsd_133884\n",
      "dsgdb9nsd_000024 dsgdb9nsd_133884\n",
      "dsgdb9nsd_000026 dsgdb9nsd_133884\n",
      "dsgdb9nsd_000027 dsgdb9nsd_133884\n",
      "dsgdb9nsd_000028 dsgdb9nsd_133884\n",
      "dsgdb9nsd_000029 dsgdb9nsd_133884\n",
      "dsgdb9nsd_000030 dsgdb9nsd_133884\n",
      "dsgdb9nsd_000031 dsgdb9nsd_133884\n",
      "dsgdb9nsd_000032 dsgdb9nsd_133884\n",
      "dsgdb9nsd_000033 dsgdb9nsd_133884\n",
      "dsgdb9nsd_000034 dsgdb9nsd_133884\n",
      "dsgdb9nsd_000035 dsgdb9nsd_133884\n",
      "dsgdb9nsd_000036 dsgdb9nsd_133884\n",
      "dsgdb9nsd_000037 dsgdb9nsd_133885\n",
      "dsgdb9nsd_000038 dsgdb9nsd_133885\n",
      "dsgdb9nsd_000039 dsgdb9nsd_133885\n",
      "dsgdb9nsd_000040 dsgdb9nsd_133885\n",
      "dsgdb9nsd_000041 dsgdb9nsd_133885\n",
      "dsgdb9nsd_000042 dsgdb9nsd_133885\n",
      "dsgdb9nsd_000043 dsgdb9nsd_133885\n",
      "dsgdb9nsd_000044 dsgdb9nsd_133885\n",
      "dsgdb9nsd_000045 dsgdb9nsd_133885\n",
      "dsgdb9nsd_000046 dsgdb9nsd_133885\n",
      "dsgdb9nsd_000047 dsgdb9nsd_133885\n",
      "dsgdb9nsd_000048 dsgdb9nsd_133885\n",
      "dsgdb9nsd_000049 dsgdb9nsd_133885\n",
      "dsgdb9nsd_000050 dsgdb9nsd_133885\n",
      "dsgdb9nsd_000051 dsgdb9nsd_133885\n",
      "dsgdb9nsd_000052 dsgdb9nsd_133885\n"
     ]
    }
   ],
   "source": [
    "j = 0\n",
    "k = -1\n",
    "mat = np.zeros((29, len(unique_atoms)))\n",
    "for row in s:\n",
    "    molecule_scope = molecules[j]\n",
    "    molecule = row[0]\n",
    "    print(molecule_scope, molecule)\n",
    "    atom = row[2]\n",
    "    if molecule == molecule_scope:\n",
    "        k += 1\n",
    "        mat[k, unique_atoms.index(atom)] = 1\n",
    "        \n",
    "    else:\n",
    "        vec = mat.reshape((1, 145))\n",
    "        molecule_vecs[j][0] = mol_numbers[j]\n",
    "        molecule_vecs[j][1:] = vec\n",
    "        \n",
    "        mat = np.zeros((29, len(unique_atoms)))\n",
    "        k = 0\n",
    "        mat[k, unique_atoms.index(atom)] = 1\n",
    "        \n",
    "        \n",
    "        j += 1"
   ]
  },
  {
   "cell_type": "code",
   "execution_count": 137,
   "metadata": {},
   "outputs": [
    {
     "data": {
      "text/plain": [
       "array([1.33884e+05, 1.00000e+00, 0.00000e+00, 0.00000e+00, 0.00000e+00,\n",
       "       0.00000e+00, 0.00000e+00, 0.00000e+00, 1.00000e+00, 0.00000e+00,\n",
       "       0.00000e+00, 1.00000e+00, 0.00000e+00, 0.00000e+00, 0.00000e+00,\n",
       "       0.00000e+00, 1.00000e+00, 0.00000e+00, 0.00000e+00, 0.00000e+00,\n",
       "       0.00000e+00, 1.00000e+00, 0.00000e+00, 0.00000e+00, 0.00000e+00,\n",
       "       0.00000e+00, 1.00000e+00, 0.00000e+00, 0.00000e+00, 0.00000e+00,\n",
       "       0.00000e+00, 1.00000e+00, 0.00000e+00, 0.00000e+00, 0.00000e+00,\n",
       "       0.00000e+00, 1.00000e+00, 0.00000e+00, 0.00000e+00, 0.00000e+00,\n",
       "       0.00000e+00, 1.00000e+00, 0.00000e+00, 0.00000e+00, 0.00000e+00,\n",
       "       0.00000e+00, 0.00000e+00, 1.00000e+00, 0.00000e+00, 0.00000e+00,\n",
       "       0.00000e+00, 0.00000e+00, 1.00000e+00, 0.00000e+00, 0.00000e+00,\n",
       "       0.00000e+00, 0.00000e+00, 1.00000e+00, 0.00000e+00, 0.00000e+00,\n",
       "       0.00000e+00, 0.00000e+00, 1.00000e+00, 0.00000e+00, 0.00000e+00,\n",
       "       0.00000e+00, 0.00000e+00, 1.00000e+00, 0.00000e+00, 0.00000e+00,\n",
       "       0.00000e+00, 0.00000e+00, 1.00000e+00, 0.00000e+00, 0.00000e+00,\n",
       "       0.00000e+00, 0.00000e+00, 1.00000e+00, 0.00000e+00, 0.00000e+00,\n",
       "       0.00000e+00, 0.00000e+00, 1.00000e+00, 0.00000e+00, 0.00000e+00,\n",
       "       0.00000e+00, 0.00000e+00, 1.00000e+00, 0.00000e+00, 0.00000e+00,\n",
       "       0.00000e+00, 0.00000e+00, 0.00000e+00, 0.00000e+00, 0.00000e+00,\n",
       "       0.00000e+00, 0.00000e+00, 0.00000e+00, 0.00000e+00, 0.00000e+00,\n",
       "       0.00000e+00, 0.00000e+00, 0.00000e+00, 0.00000e+00, 0.00000e+00,\n",
       "       0.00000e+00, 0.00000e+00, 0.00000e+00, 0.00000e+00, 0.00000e+00,\n",
       "       0.00000e+00, 0.00000e+00, 0.00000e+00, 0.00000e+00, 0.00000e+00,\n",
       "       0.00000e+00, 0.00000e+00, 0.00000e+00, 0.00000e+00, 0.00000e+00,\n",
       "       0.00000e+00, 0.00000e+00, 0.00000e+00, 0.00000e+00, 0.00000e+00,\n",
       "       0.00000e+00, 0.00000e+00, 0.00000e+00, 0.00000e+00, 0.00000e+00,\n",
       "       0.00000e+00, 0.00000e+00, 0.00000e+00, 0.00000e+00, 0.00000e+00,\n",
       "       0.00000e+00, 0.00000e+00, 0.00000e+00, 0.00000e+00, 0.00000e+00,\n",
       "       0.00000e+00, 0.00000e+00, 0.00000e+00, 0.00000e+00, 0.00000e+00,\n",
       "       0.00000e+00])"
      ]
     },
     "execution_count": 137,
     "metadata": {},
     "output_type": "execute_result"
    }
   ],
   "source": [
    "molecule_vecs[-2]"
   ]
  },
  {
   "cell_type": "code",
   "execution_count": 68,
   "metadata": {},
   "outputs": [
    {
     "name": "stderr",
     "output_type": "stream",
     "text": [
      "  0%|          | 0/2358657 [00:00<?, ?it/s]\n"
     ]
    },
    {
     "ename": "AttributeError",
     "evalue": "'numpy.ndarray' object has no attribute 'append'",
     "output_type": "error",
     "traceback": [
      "\u001b[0;31m---------------------------------------------------------------------------\u001b[0m",
      "\u001b[0;31mAttributeError\u001b[0m                            Traceback (most recent call last)",
      "\u001b[0;32m<ipython-input-68-3fe66f4db219>\u001b[0m in \u001b[0;36m<module>\u001b[0;34m\u001b[0m\n\u001b[1;32m     29\u001b[0m         \u001b[0;31m# Flatten molecule in scope and append to Xtrain\u001b[0m\u001b[0;34m\u001b[0m\u001b[0;34m\u001b[0m\u001b[0;34m\u001b[0m\u001b[0m\n\u001b[1;32m     30\u001b[0m         \u001b[0mvec\u001b[0m \u001b[0;34m=\u001b[0m \u001b[0mmat\u001b[0m\u001b[0;34m.\u001b[0m\u001b[0mreshape\u001b[0m\u001b[0;34m(\u001b[0m\u001b[0;34m(\u001b[0m\u001b[0;36m1\u001b[0m\u001b[0;34m,\u001b[0m \u001b[0;36m145\u001b[0m\u001b[0;34m)\u001b[0m\u001b[0;34m)\u001b[0m\u001b[0;34m\u001b[0m\u001b[0;34m\u001b[0m\u001b[0m\n\u001b[0;32m---> 31\u001b[0;31m         \u001b[0mvec\u001b[0m\u001b[0;34m.\u001b[0m\u001b[0mappend\u001b[0m\u001b[0;34m(\u001b[0m\u001b[0;36m5\u001b[0m\u001b[0;34m)\u001b[0m\u001b[0;34m\u001b[0m\u001b[0;34m\u001b[0m\u001b[0m\n\u001b[0m\u001b[1;32m     32\u001b[0m         \u001b[0mmolecule_vecs\u001b[0m\u001b[0;34m[\u001b[0m\u001b[0mj\u001b[0m\u001b[0;34m,\u001b[0m \u001b[0;34m:\u001b[0m\u001b[0;34m]\u001b[0m \u001b[0;34m=\u001b[0m \u001b[0mvec\u001b[0m\u001b[0;34m\u001b[0m\u001b[0;34m\u001b[0m\u001b[0m\n\u001b[1;32m     33\u001b[0m \u001b[0;34m\u001b[0m\u001b[0m\n",
      "\u001b[0;31mAttributeError\u001b[0m: 'numpy.ndarray' object has no attribute 'append'"
     ]
    }
   ],
   "source": [
    "# Index for molecules\n",
    "j = 0\n",
    "\n",
    "# Index for row in structures\n",
    "i = -1\n",
    "\n",
    "# Index for atom in molecule\n",
    "k = -1\n",
    "\n",
    "# Inititalize matrix of 0's per molecule\n",
    "mat = np.zeros((29, len(unique_atoms)))\n",
    "\n",
    "for row in tqdm(structures):\n",
    "    i += 1\n",
    "\n",
    "    # Molecule name of current row\n",
    "    molecule = molecules[j]\n",
    "\n",
    "    # Atom name of current row\n",
    "    atom = row[2]\n",
    "\n",
    "    # If current molecule is molecule in scope\n",
    "    if row[0] == molecule:\n",
    "        k += 1\n",
    "        mat[k, unique_atoms.index(atom)] = 1\n",
    "\n",
    "    # If molecule does not match -> next molecule\n",
    "    else:\n",
    "        # Flatten molecule in scope and append to Xtrain\n",
    "        vec = mat.reshape((1, 145))\n",
    "        molecule_vecs[j, :] = vec\n",
    "\n",
    "        # Start new molecule matrix\n",
    "        mat = np.zeros((max_atoms_per_molecule, len(unique_atoms)))\n",
    "        k = 0\n",
    "\n",
    "        # And append current value to new matrix\n",
    "        mat[k, unique_atoms.index(atom)] = 1\n",
    "\n",
    "        j += 1"
   ]
  },
  {
   "cell_type": "code",
   "execution_count": null,
   "metadata": {},
   "outputs": [],
   "source": [
    "molecule_vecs[0]"
   ]
  },
  {
   "cell_type": "code",
   "execution_count": null,
   "metadata": {},
   "outputs": [],
   "source": [
    "molecule_numbers = structures['molecule_name']"
   ]
  },
  {
   "cell_type": "code",
   "execution_count": null,
   "metadata": {},
   "outputs": [],
   "source": [
    "molecule_numbers.head()"
   ]
  },
  {
   "cell_type": "code",
   "execution_count": null,
   "metadata": {},
   "outputs": [],
   "source": [
    "mol_numbers = []\n",
    "for i in structures['molecule_name'].unique()[:5]:\n",
    "    mol_numbers.append(i.split('_')[1])"
   ]
  },
  {
   "cell_type": "code",
   "execution_count": null,
   "metadata": {},
   "outputs": [],
   "source": [
    "mol_numbers"
   ]
  },
  {
   "cell_type": "code",
   "execution_count": 145,
   "metadata": {},
   "outputs": [
    {
     "data": {
      "text/plain": [
       "'dsgdb9nsd_133885'"
      ]
     },
     "execution_count": 145,
     "metadata": {},
     "output_type": "execute_result"
    }
   ],
   "source": [
    "molecules[-1]"
   ]
  },
  {
   "cell_type": "code",
   "execution_count": null,
   "metadata": {},
   "outputs": [],
   "source": []
  }
 ],
 "metadata": {
  "kernelspec": {
   "display_name": "Python 3",
   "language": "python",
   "name": "python3"
  },
  "language_info": {
   "codemirror_mode": {
    "name": "ipython",
    "version": 3
   },
   "file_extension": ".py",
   "mimetype": "text/x-python",
   "name": "python",
   "nbconvert_exporter": "python",
   "pygments_lexer": "ipython3",
   "version": "3.7.1"
  }
 },
 "nbformat": 4,
 "nbformat_minor": 2
}
